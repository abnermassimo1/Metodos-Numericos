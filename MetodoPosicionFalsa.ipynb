{
  "nbformat": 4,
  "nbformat_minor": 0,
  "metadata": {
    "colab": {
      "provenance": [],
      "authorship_tag": "ABX9TyN5S937lrKk418x/WIGQvHi",
      "include_colab_link": true
    },
    "kernelspec": {
      "name": "python3",
      "display_name": "Python 3"
    },
    "language_info": {
      "name": "python"
    }
  },
  "cells": [
    {
      "cell_type": "markdown",
      "metadata": {
        "id": "view-in-github",
        "colab_type": "text"
      },
      "source": [
        "<a href=\"https://colab.research.google.com/github/abnermassimo1/Metodos-Numericos/blob/main/MetodoPosicionFalsa.ipynb\" target=\"_parent\"><img src=\"https://colab.research.google.com/assets/colab-badge.svg\" alt=\"Open In Colab\"/></a>"
      ]
    },
    {
      "cell_type": "markdown",
      "source": [
        "\n",
        "Método de la posición falsa para encontrar una raíz de f(x) = 0 en el  intervalo [p0, p1].\n",
        "\n",
        "Prametros:\n",
        "\n",
        "        p0  (float): Primer punto de aproximación inicial.\n",
        "        p1  (float): Segundo punto de aproximación inicial.\n",
        "        TOL (float): Tolerancia para la aproximación de la raíz.\n",
        "        N0  (int): Número máximo de iteraciones permitidas.\n",
        "\n",
        "\n",
        "Explicacion de codigo:\n",
        "\n",
        "**1) Definimos la funcion :** $$f(x) = cos(x) - x$$\n",
        "**2)Implementamos la funcion:**posiciom_falsa() que sigue el algorimo.\n",
        "\n",
        "**3)Calculamos el error estimado** en cada iteacion como |p-p1|.\n",
        "\n",
        "**4)Imprimimos la tabla** si el metodo coverge o falla despues de N0 iteraciones.\n",
        "\n",
        "\n"
      ],
      "metadata": {
        "id": "yLtNxYf2wnFT"
      }
    },
    {
      "cell_type": "code",
      "execution_count": 3,
      "metadata": {
        "id": "_zWzDKbvv_G8"
      },
      "outputs": [],
      "source": [
        "from tabulate import tabulate  # Para generar tablas ordenadas\n",
        "import math  # Para operaciones matemáticas"
      ]
    },
    {
      "cell_type": "code",
      "source": [
        "#Definimos la funcion que queramos encontrar la raiz.\n",
        "def f(x):\n",
        "\n",
        "    return math.cos(x) - x  # Cambia esta función según el problema"
      ],
      "metadata": {
        "id": "exqNrl4Jw_4P"
      },
      "execution_count": 7,
      "outputs": []
    },
    {
      "cell_type": "code",
      "source": [
        "def posicion_falsa(p0, p1, TOL, N0):\n",
        "\n",
        "\n",
        "    # Inicializamos variables\n",
        "    q0 = f(p0)\n",
        "    q1 = f(p1)\n",
        "    i = 1  # Empezamos en la iteración\n",
        "    datos = []  # Lista para almacenar los resultados\n",
        "\n",
        "    # Iteraciones del método\n",
        "    while i <= N0:\n",
        "        # Calculamos la nueva aproximación p usando la fórmula de posición falsa\n",
        "        p = p1 - q1 * (p1 - p0) / (q1 - q0)\n",
        "        error_estimado = abs(p - p1)  # Calculamos el error estimado\n",
        "\n",
        "        # Guardamos los valores en la tabla\n",
        "        datos.append([i, p0, p1, p, f(p), error_estimado])\n",
        "\n",
        "        # Verificamos si el error es menor que la tolerancia\n",
        "        if error_estimado < TOL:\n",
        "            print(\"\\nEl método fue exitoso. La raíz aproximada es:\", p)\n",
        "            print(tabulate(datos, headers=[\"Iter\", \"p0\", \"p1\", \"p\", \"f(p)\", \"Error Est.\"], tablefmt=\"grid\"))\n",
        "            return p  # Devolvemos la raíz aproximada\n",
        "\n",
        "        # Actualizamos valores para la siguiente iteración\n",
        "        i += 1\n",
        "        q = f(p)\n",
        "\n",
        "        # Evaluamos el signo del producto q * q1\n",
        "        if q * q1 < 0:\n",
        "            p0 = p1\n",
        "            q0 = q1\n",
        "\n",
        "        p1 = p\n",
        "        q1 = q\n",
        "\n",
        "    # Si el método no converge en N0 iteraciones, mostramos un mensaje de error\n",
        "    print(\"\\nEl método falló después de\", N0, \"iteraciones.\")\n",
        "    print(tabulate(datos, headers=[\"Iter\", \"p0\", \"p1\", \"p\", \"f(p)\", \"Error Est.\"], tablefmt=\"grid\"))\n",
        "    return None\n",
        "\n",
        "# Llamamos a la función con valores de prueba\n",
        "posicion_falsa(p0=0.5, p1=math.pi/4, TOL=1e-10, N0=20)"
      ],
      "metadata": {
        "colab": {
          "base_uri": "https://localhost:8080/"
        },
        "id": "YP6VpDASwNYo",
        "outputId": "32eb2fd0-3e43-490d-f408-80ed05306731"
      },
      "execution_count": 16,
      "outputs": [
        {
          "output_type": "stream",
          "name": "stdout",
          "text": [
            "\n",
            "El método fue exitoso. La raíz aproximada es: 0.7390851332148929\n",
            "+--------+----------+----------+----------+-------------+--------------+\n",
            "|   Iter |       p0 |       p1 |        p |        f(p) |   Error Est. |\n",
            "+========+==========+==========+==========+=============+==============+\n",
            "|      1 | 0.5      | 0.785398 | 0.736384 | 0.00451772  |  0.049014    |\n",
            "+--------+----------+----------+----------+-------------+--------------+\n",
            "|      2 | 0.785398 | 0.736384 | 0.739058 | 4.51772e-05 |  0.002674    |\n",
            "+--------+----------+----------+----------+-------------+--------------+\n",
            "|      3 | 0.785398 | 0.739058 | 0.739085 | 4.50872e-07 |  2.67246e-05 |\n",
            "+--------+----------+----------+----------+-------------+--------------+\n",
            "|      4 | 0.785398 | 0.739085 | 0.739085 | 4.49964e-09 |  2.66712e-07 |\n",
            "+--------+----------+----------+----------+-------------+--------------+\n",
            "|      5 | 0.785398 | 0.739085 | 0.739085 | 4.49059e-11 |  2.66175e-09 |\n",
            "+--------+----------+----------+----------+-------------+--------------+\n",
            "|      6 | 0.785398 | 0.739085 | 0.739085 | 4.48086e-13 |  2.6564e-11  |\n",
            "+--------+----------+----------+----------+-------------+--------------+\n"
          ]
        },
        {
          "output_type": "execute_result",
          "data": {
            "text/plain": [
              "0.7390851332148929"
            ]
          },
          "metadata": {},
          "execution_count": 16
        }
      ]
    }
  ]
}
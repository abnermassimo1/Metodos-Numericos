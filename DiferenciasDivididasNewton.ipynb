{
  "nbformat": 4,
  "nbformat_minor": 0,
  "metadata": {
    "colab": {
      "provenance": [],
      "authorship_tag": "ABX9TyM2kEEHiRFZH5p5mmfvQZbC",
      "include_colab_link": true
    },
    "kernelspec": {
      "name": "python3",
      "display_name": "Python 3"
    },
    "language_info": {
      "name": "python"
    }
  },
  "cells": [
    {
      "cell_type": "markdown",
      "metadata": {
        "id": "view-in-github",
        "colab_type": "text"
      },
      "source": [
        "<a href=\"https://colab.research.google.com/github/abnermassimo1/Metodos-Numericos/blob/main/DiferenciasDivididasNewton.ipynb\" target=\"_parent\"><img src=\"https://colab.research.google.com/assets/colab-badge.svg\" alt=\"Open In Colab\"/></a>"
      ]
    },
    {
      "cell_type": "markdown",
      "source": [
        "**DIFERENCIAS DIVIDIDAS NEWTON**\n",
        "\n",
        "La manera más conocida para calcular la representación de Newton del polinomio interpolante, está basada en el método de diferencias divididas. Una gran ventaja sobre la forma clásica del método de Lagrange es que podemos agregar más nodos a la tabla de datos y obtener el polinomio interpolante sin tener que recalcular todo.\n",
        "\n",
        " Comparado con la forma modificada de Lagrange, no hay ganancia y más bien esta última forma es más estable. Aún así, el método de diferencias divididas tiene aplicaciones adicionales en otros contextos. Podemos calcular los ais usando el hecho de que P(xi ) = yi."
      ],
      "metadata": {
        "id": "a0aq9dWC48fW"
      }
    },
    {
      "cell_type": "code",
      "execution_count": 9,
      "metadata": {
        "colab": {
          "base_uri": "https://localhost:8080/"
        },
        "id": "x9yuwPJp1yJu",
        "outputId": "148eda2e-f548-4c14-e238-982eea9da97a"
      },
      "outputs": [
        {
          "output_type": "stream",
          "name": "stdout",
          "text": [
            "Tabla de diferencias divididas:\n",
            "\n",
            "         x         F(*,0)         F(*,1)         F(*,2)         F(*,3)         F(*,4)\n",
            "    1.0000       0.765198\n",
            "    1.3000       0.620086      -0.483706\n",
            "    1.6000       0.455402      -0.548946      -0.108734\n",
            "    1.9000       0.281819      -0.578612      -0.049443       0.065878\n",
            "    2.2000       0.110362      -0.571521       0.011818       0.068069       0.001825\n"
          ]
        }
      ],
      "source": [
        "def diferencias_divididas(x, y):\n",
        "\n",
        "    n = len(x)\n",
        "    # Crear una matriz n x n inicializada con ceros\n",
        "    tabla = [[0 for _ in range(n)] for _ in range(n)]\n",
        "\n",
        "    # Llenar la primera columna con los valores de y (f(x))\n",
        "    for i in range(n):\n",
        "        tabla[i][0] = y[i]\n",
        "\n",
        "    # Calcular las diferencias divididas\n",
        "    for i in range(1, n):  # desde la columna 1 hasta n-1\n",
        "        for j in range(i, n):  # desde la fila i hasta n-1\n",
        "            numerador = tabla[j][i-1] - tabla[j-1][i-1]\n",
        "            denominador = x[j] - x[j-i]\n",
        "            tabla[j][i] = numerador / denominador\n",
        "\n",
        "    return tabla\n",
        "\n",
        "\n",
        "def imprimir_tabla(tabla, x):\n",
        "\n",
        "    n = len(tabla)\n",
        "    print(\"Tabla de diferencias divididas:\\n\")\n",
        "    header = [\"x\"] + [f\"F{i},{j}\" for j in range(n) for i in range(j, n)]\n",
        "    print(f\"{'x':>10}\", end=\"\")\n",
        "    for j in range(n):\n",
        "        print(f\"{f'F(*,{j})':>15}\", end=\"\")\n",
        "    print()\n",
        "\n",
        "    for i in range(n):\n",
        "        print(f\"{x[i]:>10.4f}\", end=\"\")\n",
        "        for j in range(i + 1):\n",
        "            print(f\"{tabla[i][j]:>15.6f}\", end=\"\")\n",
        "        print()\n",
        "\n",
        "\n",
        "# EJEMPLO DE USO\n",
        "\n",
        "# Valores de entrada (puedes modificar según el caso)\n",
        "x = [1.0, 1.3, 1.6, 1.9, 2.2]\n",
        "y = [0.7651977, 0.6200860, 0.4554022, 0.2818186, 0.1103623]\n",
        "\n",
        "# Calcular tabla de diferencias divididas\n",
        "tabla = diferencias_divididas(x, y)\n",
        "\n",
        "# Imprimir tabla\n",
        "imprimir_tabla(tabla, x)\n"
      ]
    }
  ]
}
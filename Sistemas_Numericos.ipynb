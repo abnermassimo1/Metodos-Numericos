{
  "nbformat": 4,
  "nbformat_minor": 0,
  "metadata": {
    "colab": {
      "provenance": [],
      "authorship_tag": "ABX9TyMYg8M6Kg8tfzgDTRAtv24C",
      "include_colab_link": true
    },
    "kernelspec": {
      "name": "python3",
      "display_name": "Python 3"
    },
    "language_info": {
      "name": "python"
    }
  },
  "cells": [
    {
      "cell_type": "markdown",
      "metadata": {
        "id": "view-in-github",
        "colab_type": "text"
      },
      "source": [
        "<a href=\"https://colab.research.google.com/github/abnermassimo1/Metodos-Numericos/blob/main/Sistemas_Numericos.ipynb\" target=\"_parent\"><img src=\"https://colab.research.google.com/assets/colab-badge.svg\" alt=\"Open In Colab\"/></a>"
      ]
    },
    {
      "cell_type": "markdown",
      "source": [
        "Base 10:{0,1,2,3,4,5,6,7,8,9} .\n",
        "\n",
        "Es un sistema posicional.\n",
        "\n",
        "Ejemplo: 525 = 5 x $10^2$ + 2 x $10^1$ + 5 x $10^0$.\n",
        "\n",
        "Numeros de 3 cifras: 000,....999 = $10^3-1$.\n",
        "\n",
        "Binario en base 2 : {0,1}.\n",
        "\n",
        "Numeros de 4 cifras: 0 = 0000, ....., 1111 = $2^3+2^2+2^1+2^0 = 8 + 4 + 2 + 1$.\n",
        "\n",
        "En computacion, los sistemas son: binario, octa y hexa.\n",
        "\n",
        "\n"
      ],
      "metadata": {
        "id": "pdXrpIyKLGOe"
      }
    },
    {
      "cell_type": "code",
      "source": [
        "numero = 26\n",
        "print(numero, \"en sistema binario es: \", bin(numero))\n",
        "print(numero, \"en sistema octa es: \", oct(numero))\n",
        "print(numero, \"en sistema hexa es: \", hex(numero))"
      ],
      "metadata": {
        "colab": {
          "base_uri": "https://localhost:8080/"
        },
        "id": "gWql3utZPtfH",
        "outputId": "9863fe1e-3a0a-46ec-fd11-363fdc6b8743"
      },
      "execution_count": 32,
      "outputs": [
        {
          "output_type": "stream",
          "name": "stdout",
          "text": [
            "26 en sistema binario es:  0b11010\n",
            "26 en sistema octa es:  0o32\n",
            "26 en sistema hexa es:  0x1a\n"
          ]
        }
      ]
    },
    {
      "cell_type": "code",
      "source": [
        "#Funcion de deciaml a binario\n",
        "def decimal_a_binario(decimal):\n",
        "\n",
        "  if decimal == 0:\n",
        "    return \"0\"  # Caso especial para el 0\n",
        "\n",
        "  binario = \"\"\n",
        "  while decimal > 0:\n",
        "    residuo = decimal % 2\n",
        "    binario = str(residuo) + binario  # Agrega el residuo al principio\n",
        "    decimal //= 2\n",
        "\n",
        "  return binario"
      ],
      "metadata": {
        "id": "HrwlmKGuUzf_"
      },
      "execution_count": 38,
      "outputs": []
    },
    {
      "cell_type": "code",
      "source": [
        "#Ejemplo\n",
        "numero_decimal = int(input(\"Elige un numero: \" ))\n",
        "binario_resultante = decimal_a_binario(numero_decimal)\n",
        "print(f\"El número decimal {numero_decimal} en binario es: {binario_resultante}\")"
      ],
      "metadata": {
        "colab": {
          "base_uri": "https://localhost:8080/"
        },
        "id": "8t1xa3ftV8Sm",
        "outputId": "792f03bd-8f74-49f9-91e7-ea2addc73df0"
      },
      "execution_count": 44,
      "outputs": [
        {
          "output_type": "stream",
          "name": "stdout",
          "text": [
            "Elige un numero: 26\n",
            "El número decimal 26 en binario es: 11010\n"
          ]
        }
      ]
    },
    {
      "cell_type": "code",
      "source": [
        "#Funcion de decimal a octa\n",
        "def decimal_octa(decimal):\n",
        "  if decimal == 0:\n",
        "    return \"0\"\n",
        "  octa = \"\"\n",
        "  while decimal > 0:\n",
        "    residuo = decimal % 8\n",
        "    octa = str(residuo) + octa\n",
        "    decimal //= 8\n",
        "  return octa"
      ],
      "metadata": {
        "id": "SFBxx9Q6XzQF"
      },
      "execution_count": 45,
      "outputs": []
    },
    {
      "cell_type": "code",
      "source": [
        "#Ejemplo\n",
        "numero_decimal = int(input(\"Elige un numero: \" ))\n",
        "octa_resultante = decimal_octa(numero_decimal)\n",
        "print(f\"El número decimal {numero_decimal} en octa es: {octa_resultante}\")"
      ],
      "metadata": {
        "colab": {
          "base_uri": "https://localhost:8080/"
        },
        "id": "3Jvuv1-PYZ39",
        "outputId": "cc5f390f-3744-4f3c-9c6b-768e941956e6"
      },
      "execution_count": 46,
      "outputs": [
        {
          "output_type": "stream",
          "name": "stdout",
          "text": [
            "Elige un numero: 26\n",
            "El número decimal 26 en octa es: 32\n"
          ]
        }
      ]
    },
    {
      "cell_type": "code",
      "source": [
        "#Funcion de decimal a hexa\n",
        "def decimal_hexa(decimal):\n",
        "    if decimal == 0:\n",
        "        return \"0\"\n",
        "    hexa = \"\"\n",
        "    hex_chars = \"0123456789ABCDEF\"  # Define hexadecimal en caracteres\n",
        "    while decimal > 0:\n",
        "        residuo = decimal % 16\n",
        "        hexa = hex_chars[residuo] + hexa\n",
        "        decimal //= 16\n",
        "    return hexa\n",
        "\n",
        "numero_decimal = int(input(\"Elige un numero: \"))\n",
        "hexa_resultante = decimal_hexa(numero_decimal)\n",
        "print(f\"El número decimal {numero_decimal} en hexa es: {hexa_resultante}\")"
      ],
      "metadata": {
        "colab": {
          "base_uri": "https://localhost:8080/"
        },
        "id": "CzmBxfVjZYY2",
        "outputId": "f26ff85e-c855-477b-ece5-d332a986b4c1"
      },
      "execution_count": 62,
      "outputs": [
        {
          "output_type": "stream",
          "name": "stdout",
          "text": [
            "Elige un numero: 26\n",
            "El número decimal 26 en hexa es: 1A\n"
          ]
        }
      ]
    },
    {
      "cell_type": "code",
      "source": [
        "#Funcion de decimal a binario\n",
        "def decimal_a_binario_fraccion(decimal, precision=10):\n",
        "\n",
        "  binario = \"\"\n",
        "  for _ in range(precision):\n",
        "    decimal *= 2\n",
        "    if decimal >= 1:\n",
        "      binario += \"1\"\n",
        "      decimal -= 1\n",
        "    else:\n",
        "      binario += \"0\"\n",
        "    if decimal == 0:\n",
        "      break\n",
        "  return \"0.\" + binario\n",
        "\n",
        "# Ejemplo\n",
        "numero_decimal = float(input(\"Escribe un numero: \"))\n",
        "binario_resultante = decimal_a_binario_fraccion(numero_decimal)\n",
        "print(f\"El número decimal {numero_decimal} en binario es: {binario_resultante}\")"
      ],
      "metadata": {
        "colab": {
          "base_uri": "https://localhost:8080/"
        },
        "id": "FBkShRlRchrl",
        "outputId": "dbe1a5af-2496-491c-96d7-4d81000d54c1"
      },
      "execution_count": 70,
      "outputs": [
        {
          "output_type": "stream",
          "name": "stdout",
          "text": [
            "Escribe un numero: 0.125\n",
            "El número decimal 0.125 en binario es: 0.001\n"
          ]
        }
      ]
    }
  ]
}
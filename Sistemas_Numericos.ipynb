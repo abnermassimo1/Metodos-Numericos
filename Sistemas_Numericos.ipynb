{
  "nbformat": 4,
  "nbformat_minor": 0,
  "metadata": {
    "colab": {
      "provenance": [],
      "authorship_tag": "ABX9TyN+1DLY0+CTEgdV5x4+czCQ",
      "include_colab_link": true
    },
    "kernelspec": {
      "name": "python3",
      "display_name": "Python 3"
    },
    "language_info": {
      "name": "python"
    }
  },
  "cells": [
    {
      "cell_type": "markdown",
      "metadata": {
        "id": "view-in-github",
        "colab_type": "text"
      },
      "source": [
        "<a href=\"https://colab.research.google.com/github/abnermassimo1/Metodos-Numericos/blob/main/Sistemas_Numericos.ipynb\" target=\"_parent\"><img src=\"https://colab.research.google.com/assets/colab-badge.svg\" alt=\"Open In Colab\"/></a>"
      ]
    },
    {
      "cell_type": "markdown",
      "source": [
        "Base 10:{0,1,2,3,4,5,6,7,8,9} .\n",
        "\n",
        "Es un sistema posicional.\n",
        "\n",
        "Ejemplo: 525 = 5 x $10^2$ + 2 x $10^1$ + 5 x $10^0$.\n",
        "\n",
        "Numeros de 3 cifras: 000,....999 = $10^3-1$.\n",
        "\n",
        "Binario en base 2 : {0,1}.\n",
        "\n",
        "Numeros de 4 cifras: 0 = 0000, ....., 1111 = $2^3+2^2+2^1+2^0 = 8 + 4 + 2 + 1$.\n",
        "\n",
        "En computacion, los sistemas:\n",
        "\n",
        "\n"
      ],
      "metadata": {
        "id": "pdXrpIyKLGOe"
      }
    },
    {
      "cell_type": "code",
      "source": [
        "numero = 26\n",
        "print(numero, \"en sistema binario es: \", bin(numero))\n",
        "print(numero, \"en sistema octa es: \", oct(numero))\n",
        "print(numero, \"en sistema hexa es: \", hex(numero))"
      ],
      "metadata": {
        "colab": {
          "base_uri": "https://localhost:8080/"
        },
        "id": "gWql3utZPtfH",
        "outputId": "9863fe1e-3a0a-46ec-fd11-363fdc6b8743"
      },
      "execution_count": 32,
      "outputs": [
        {
          "output_type": "stream",
          "name": "stdout",
          "text": [
            "26 en sistema binario es:  0b11010\n",
            "26 en sistema octa es:  0o32\n",
            "26 en sistema hexa es:  0x1a\n"
          ]
        }
      ]
    },
    {
      "cell_type": "code",
      "source": [
        "def decimal_a_binario(decimal):\n",
        "\n",
        "  if decimal == 0:\n",
        "    return \"0\"  # Caso especial para el 0\n",
        "\n",
        "  binario = \"\"\n",
        "  while decimal > 0:\n",
        "    residuo = decimal % 2\n",
        "    binario = str(residuo) + binario  # Agrega el residuo al principio\n",
        "    decimal //= 2\n",
        "\n",
        "  return binario"
      ],
      "metadata": {
        "id": "HrwlmKGuUzf_"
      },
      "execution_count": 38,
      "outputs": []
    },
    {
      "cell_type": "code",
      "source": [
        "numero_decimal = int(input())\n",
        "binario_resultante = decimal_a_binario(numero_decimal)\n",
        "print(f\"El número decimal {numero_decimal} en binario es: {binario_resultante}\")"
      ],
      "metadata": {
        "colab": {
          "base_uri": "https://localhost:8080/"
        },
        "id": "8t1xa3ftV8Sm",
        "outputId": "71333324-ed34-4448-c29e-18c2e8ca1c6b"
      },
      "execution_count": 41,
      "outputs": [
        {
          "output_type": "stream",
          "name": "stdout",
          "text": [
            "26\n",
            "El número decimal 26 en binario es: 11010\n"
          ]
        }
      ]
    }
  ]
}
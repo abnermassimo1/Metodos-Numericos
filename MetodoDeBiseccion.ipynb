{
  "nbformat": 4,
  "nbformat_minor": 0,
  "metadata": {
    "colab": {
      "provenance": [],
      "authorship_tag": "ABX9TyO44IMgV3mV2YBE1XRNKhpu",
      "include_colab_link": true
    },
    "kernelspec": {
      "name": "python3",
      "display_name": "Python 3"
    },
    "language_info": {
      "name": "python"
    }
  },
  "cells": [
    {
      "cell_type": "markdown",
      "metadata": {
        "id": "view-in-github",
        "colab_type": "text"
      },
      "source": [
        "<a href=\"https://colab.research.google.com/github/abnermassimo1/Metodos-Numericos/blob/main/MetodoDeBiseccion.ipynb\" target=\"_parent\"><img src=\"https://colab.research.google.com/assets/colab-badge.svg\" alt=\"Open In Colab\"/></a>"
      ]
    },
    {
      "cell_type": "markdown",
      "source": [
        "Método de bisección para encontrar una raíz de la función f(x) en el intervalo [a, b].\n",
        "\n",
        "    f: Función a evaluar.\n",
        "    fp: Valor de la funcion en p\n",
        "    a: Extremo izquierdo del intervalo.\n",
        "    b: Extremo derecho del intervalo.\n",
        "    tol: Tolerancia para la solución aproximada.\n",
        "    N0: Número máximo de iteraciones.\n",
        "  \n"
      ],
      "metadata": {
        "id": "jvzJwdT9Do6P"
      }
    },
    {
      "cell_type": "code",
      "execution_count": 12,
      "metadata": {
        "id": "MlG61IZnB9EM"
      },
      "outputs": [],
      "source": [
        "import math"
      ]
    },
    {
      "cell_type": "code",
      "source": [
        "def biseccion(f, a, b, tol, N0):\n",
        "\n",
        "\n",
        "    FA = f(a)  # Evaluamos la función en el punto a\n",
        "\n",
        "    # Imprimir encabezado de la tabla\n",
        "    print(f\"{'Iter':<5} {'a':<10} {'b':<10} {'p':<10} {'f(p)':<12} {'Error':<10}\")\n",
        "    print(\"-\" * 60)\n",
        "\n",
        "    for i in range(1, N0 + 1):  # Iteramos hasta alcanzar el número máximo de iteraciones\n",
        "        p = (a + b) / 2  # Calculamos el punto medio\n",
        "        FP = f(p)  # Evaluamos la función en el punto medio\n",
        "        error = abs(b - a) / 2  # Calculamos el error relativo\n",
        "\n",
        "        # Imprimir valores de la iteración\n",
        "        print(f\"{i:<5} {a:<10.6f} {b:<10.6f} {p:<10.6f} {FP:<12.6f} {error:<10.6f}\")\n",
        "\n",
        "        # Si FP es 0 o el error es menor que la tolerancia, hemos encontrado la raíz\n",
        "        if FP == 0 or error < tol:\n",
        "            print(\"-\" * 60)\n",
        "            return f\"Solución aproximada encontrada: p = {p}, en {i} iteraciones.\"\n",
        "\n",
        "        # Si FA y FP tienen el mismo signo, la raíz está en el intervalo [p, b], movemos a\n",
        "        if FA * FP > 0:\n",
        "            a = p  # Movemos el extremo izquierdo\n",
        "            FA = FP  # Actualizamos FA\n",
        "        else:\n",
        "            b = p  # Movemos el extremo derecho\n",
        "\n",
        "    print(\"-\" * 60)\n",
        "    return f\"El método fracasó después de {N0} iteraciones.\""
      ],
      "metadata": {
        "id": "xKU0WremFE4z"
      },
      "execution_count": 13,
      "outputs": []
    },
    {
      "cell_type": "code",
      "source": [
        "# Definimos la función para la que queremos encontrar la raíz\n",
        "def f(x):\n",
        "  return x**3 + 4*x**2 - 10\n",
        "\n",
        "# Definimos el intervalo [a, b], tolerancia y número máximo de iteraciones\n",
        "a = 1\n",
        "b = 2\n",
        "tol = 1e-4  # Tolerancia de 0.0001\n",
        "N0 = 50  # Número máximo de iteraciones\n",
        "\n",
        "# Llamamos a la función y mostramos el resultado\n",
        "resultado = biseccion(f, a, b, tol, N0)\n",
        "print(resultado)"
      ],
      "metadata": {
        "colab": {
          "base_uri": "https://localhost:8080/"
        },
        "id": "te-RykkZDlp1",
        "outputId": "18e51377-b124-4b71-8f92-02dc24c2cdd7"
      },
      "execution_count": 20,
      "outputs": [
        {
          "output_type": "stream",
          "name": "stdout",
          "text": [
            "Iter  a          b          p          f(p)         Error     \n",
            "------------------------------------------------------------\n",
            "1     1.000000   2.000000   1.500000   2.375000     0.500000  \n",
            "2     1.000000   1.500000   1.250000   -1.796875    0.250000  \n",
            "3     1.250000   1.500000   1.375000   0.162109     0.125000  \n",
            "4     1.250000   1.375000   1.312500   -0.848389    0.062500  \n",
            "5     1.312500   1.375000   1.343750   -0.350983    0.031250  \n",
            "6     1.343750   1.375000   1.359375   -0.096409    0.015625  \n",
            "7     1.359375   1.375000   1.367188   0.032356     0.007812  \n",
            "8     1.359375   1.367188   1.363281   -0.032150    0.003906  \n",
            "9     1.363281   1.367188   1.365234   0.000072     0.001953  \n",
            "10    1.363281   1.365234   1.364258   -0.016047    0.000977  \n",
            "11    1.364258   1.365234   1.364746   -0.007989    0.000488  \n",
            "12    1.364746   1.365234   1.364990   -0.003959    0.000244  \n",
            "13    1.364990   1.365234   1.365112   -0.001944    0.000122  \n",
            "14    1.365112   1.365234   1.365173   -0.000936    0.000061  \n",
            "------------------------------------------------------------\n",
            "Solución aproximada encontrada: p = 1.36517333984375, en 14 iteraciones.\n"
          ]
        }
      ]
    }
  ]
}
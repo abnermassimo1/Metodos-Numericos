{
  "nbformat": 4,
  "nbformat_minor": 0,
  "metadata": {
    "colab": {
      "provenance": [],
      "authorship_tag": "ABX9TyPXLjmF3mlxA/a2hIaCHqp/",
      "include_colab_link": true
    },
    "kernelspec": {
      "name": "python3",
      "display_name": "Python 3"
    },
    "language_info": {
      "name": "python"
    }
  },
  "cells": [
    {
      "cell_type": "markdown",
      "metadata": {
        "id": "view-in-github",
        "colab_type": "text"
      },
      "source": [
        "<a href=\"https://colab.research.google.com/github/abnermassimo1/Metodos-Numericos/blob/main/MetodoSecante.ipynb\" target=\"_parent\"><img src=\"https://colab.research.google.com/assets/colab-badge.svg\" alt=\"Open In Colab\"/></a>"
      ]
    },
    {
      "cell_type": "markdown",
      "source": [
        "**METODO SECANTE**\n",
        "\n",
        "El método de la secante se utiliza para encontrar ceros de una función. Aquí están los pasos básicos del método:\n",
        "\n",
        "1)Comenzar con dos valores iniciales, x0 y x1.\n",
        "\n",
        "2)Construir una recta que pase por los puntos (x0, f(x0)) y (x1, f(x1)).\n",
        "\n",
        "3)Utilizar la intersección de la recta con el eje x como una nueva aproximación de la raíz.\n",
        "\n",
        "\n",
        "    Parámetros:\n",
        "    f    : Función a evaluar\n",
        "    p0   : Primera aproximación inicial\n",
        "    p1   : Segunda aproximación inicial\n",
        "    tol  : Tolerancia para la convergencia\n",
        "    N0   : Número máximo de iteraciones"
      ],
      "metadata": {
        "id": "xNNUlqediwzi"
      }
    },
    {
      "cell_type": "code",
      "source": [
        "import numpy as np\n",
        "import pandas as pd"
      ],
      "metadata": {
        "id": "58mJJd_fiser"
      },
      "execution_count": null,
      "outputs": []
    },
    {
      "cell_type": "code",
      "execution_count": null,
      "metadata": {
        "id": "ex-fTokxhIWX"
      },
      "outputs": [],
      "source": [
        "def secante(f, p0, p1, tol, N0):\n",
        "\n",
        "    # Inicializamos valores\n",
        "    q0 = f(p0)\n",
        "    q1 = f(p1)\n",
        "    i = 2  # Contador de iteraciones\n",
        "\n",
        "    # Lista para almacenar los resultados de cada iteración\n",
        "    resultados = []\n",
        "\n",
        "    while i <= N0:\n",
        "        # Calcular siguiente aproximación usando la fórmula de la secante\n",
        "        p = p1 - q1 * (p1 - p0) / (q1 - q0)\n",
        "\n",
        "        # Almacenar valores en la lista\n",
        "        resultados.append([i, p0, p1, p, f(p)])\n",
        "\n",
        "        # Verificar si se ha alcanzado la tolerancia\n",
        "        if abs(p - p1) < tol:\n",
        "            print(\"El procedimiento fue exitoso.\")\n",
        "            print(\"Solución encontrada:\", p)\n",
        "            break\n",
        "\n",
        "        # Actualizar valores para la siguiente iteración\n",
        "        p0, q0 = p1, q1\n",
        "        p1, q1 = p, f(p)\n",
        "        i += 1\n",
        "    else:\n",
        "        print(f\"El método falló después de {N0} iteraciones.\")\n",
        "\n",
        "    # Imprimir tabla de resultados\n",
        "    df = pd.DataFrame(resultados, columns=[\"Iteración\", \"p0\", \"p1\", \"p\", \"f(p)\"])\n",
        "    print(df)\n"
      ]
    },
    {
      "cell_type": "code",
      "source": [
        "# Definir la función f(x)\n",
        "def funcion(x):\n",
        "    return x**3 - x - 2\n",
        "\n",
        "# Parámetros de entrada\n",
        "p0 = 1\n",
        "p1 = 2\n",
        "tolerancia = 1e-5\n",
        "max_iteraciones = 20\n",
        "\n",
        "# Ejecutar el método\n",
        "secante(funcion, p0, p1, tolerancia, max_iteraciones)"
      ],
      "metadata": {
        "colab": {
          "base_uri": "https://localhost:8080/"
        },
        "id": "h58EvGxDj6EL",
        "outputId": "7f1cdd3a-8acb-4f09-d792-742c70d6c1ff"
      },
      "execution_count": null,
      "outputs": [
        {
          "output_type": "stream",
          "name": "stdout",
          "text": [
            "El procedimiento fue exitoso.\n",
            "Solución encontrada: 1.5213797079848717\n",
            "   Iteración        p0        p1         p          f(p)\n",
            "0          2  1.000000  2.000000  1.333333 -9.629630e-01\n",
            "1          3  2.000000  1.333333  1.462687 -3.333389e-01\n",
            "2          4  1.333333  1.462687  1.531169  5.862642e-02\n",
            "3          5  1.462687  1.531169  1.520926 -2.693300e-03\n",
            "4          6  1.531169  1.520926  1.521376 -2.015019e-05\n",
            "5          7  1.520926  1.521376  1.521380  7.015478e-09\n"
          ]
        }
      ]
    }
  ]
}
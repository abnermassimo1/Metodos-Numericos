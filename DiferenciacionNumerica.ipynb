{
  "nbformat": 4,
  "nbformat_minor": 0,
  "metadata": {
    "colab": {
      "provenance": [],
      "authorship_tag": "ABX9TyPTgmQthSP7STtmWEKECMoa",
      "include_colab_link": true
    },
    "kernelspec": {
      "name": "python3",
      "display_name": "Python 3"
    },
    "language_info": {
      "name": "python"
    }
  },
  "cells": [
    {
      "cell_type": "markdown",
      "metadata": {
        "id": "view-in-github",
        "colab_type": "text"
      },
      "source": [
        "<a href=\"https://colab.research.google.com/github/abnermassimo1/Metodos-Numericos/blob/main/DiferenciacionNumerica.ipynb\" target=\"_parent\"><img src=\"https://colab.research.google.com/assets/colab-badge.svg\" alt=\"Open In Colab\"/></a>"
      ]
    },
    {
      "cell_type": "markdown",
      "source": [
        "# Diferenciacion Numerica\n",
        "\n",
        "##Fórmula de diferencias hacia adelante/atrás\n",
        "La derivada de una función $ f $ en $ x_0 $ se aproxima como:\n",
        "$$\n",
        "f'(x_0) \\approx \\frac{f(x_0 + h) - f(x_0)}{h},\n",
        "$$\n",
        "con un error de truncamiento dado por:\n",
        "$$\n",
        "f'(x_0) = \\frac{f(x_0 + h) - f(x_0)}{h} - \\frac{h}{2}f''(\\xi), \\quad \\xi \\in [x_0, x_0 + h].\n",
        "$$\n",
        "Esta es la *fórmula de diferencias hacia adelante* si $ h > 0 $ o *hacia atrás* si $ h < 0 $.\n",
        "\n",
        "##Fórmulas de tres puntos\n",
        "\n",
        "###Fórmula del extremo de tres puntos\n",
        "$$\n",
        "f'(x_0) = \\frac{1}{2h} \\left[ -3f(x_0) + 4f(x_0 + h) - f(x_0 + 2h) \\right] + \\frac{h^2}{3}f'''(\\xi_0),\n",
        "$$\n",
        "donde $$( \\xi_0 \\in [x_0, x_0 + 2h] )$$.\n",
        "\n",
        "###Fórmula del punto medio de tres puntos\n",
        "$$\n",
        "f'(x_0) = \\frac{1}{2h} \\left[ f(x_0 + h) - f(x_0 - h) \\right] - \\frac{h^2}{6}f'''(\\xi_1),\n",
        "$$\n",
        "donde $$( \\xi_1 \\in [x_0 - h, x_0 + h])$$.\n",
        "\n",
        "##Fórmulas de cinco puntos\n",
        "\n",
        "###Fórmula del punto medio de cinco puntos\n",
        "$$\n",
        "f'(x_0) = \\frac{1}{12h} \\left[ f(x_0 - 2h) - 8f(x_0 - h) + 8f(x_0 + h) - f(x_0 + 2h) \\right] + \\frac{h^4}{30}f^{(5)}(\\xi),\n",
        "$$\n",
        "con $$( \\xi \\in [x_0 - 2h, x_0 + 2h] )$$.\n",
        "\n",
        "###Fórmula del extremo de cinco puntos\n",
        "$$\n",
        "f'(x_0) = \\frac{1}{12h} \\left[ -25f(x_0) + 48f(x_0 + h) - 36f(x_0 + 2h) + 16f(x_0 + 3h) - 3f(x_0 + 4h) \\right] + \\frac{h^4}{5}f^{(5)}(\\xi),\n",
        "$$\n",
        "donde $(\\xi \\in [x_0, x_0 + 4h])$."
      ],
      "metadata": {
        "id": "D-gXvdrSGBID"
      }
    },
    {
      "cell_type": "code",
      "execution_count": 1,
      "metadata": {
        "colab": {
          "base_uri": "https://localhost:8080/"
        },
        "id": "tse2jXOC9UhW",
        "outputId": "d7db4d16-741f-41a2-d7ca-3fd8ede8b034"
      },
      "outputs": [
        {
          "output_type": "stream",
          "name": "stdout",
          "text": [
            "Aproximaciones de f'(2.0) y f''(2.0) para f(x) = x * e^x\n",
            "\n",
            "1) Extremo 3 puntos:         f'(2.0) ≈ 22.032305\n",
            "2) Punto medio 3 puntos:    f'(2.0) ≈ 22.228787\n",
            "3) Punto medio 5 puntos:    f'(2.0) ≈ 22.166996\n",
            "4) Extremo 5 puntos:        f'(2.0) ≈ 22.165915\n",
            "5) Segunda derivada (5 pt): f''(2.0) ≈ 29.556159\n",
            "\n",
            "Valor exacto f'(2.0) = 22.167168\n",
            "Valor exacto f''(2.0) = 29.556224\n"
          ]
        }
      ],
      "source": [
        "import sympy as sp\n",
        "import math\n",
        "\n",
        "\n",
        "def f_val(x):\n",
        "    return x * math.exp(x)\n",
        "\n",
        "# ---------------------------------------------\n",
        "# Parámetros iniciales\n",
        "# ---------------------------------------------\n",
        "h = 0.1         # Tamaño de paso\n",
        "x0 = 2.0        # Punto donde se evalúa la derivada\n",
        "\n",
        "# ---------------------------------------------\n",
        "# Evaluación de f(x) en los puntos necesarios\n",
        "# ---------------------------------------------\n",
        "# Las fórmulas requieren valores desde x = 1.8 hasta x = 2.4\n",
        "vals = {\n",
        "    1.8: f_val(1.8),\n",
        "    1.9: f_val(1.9),\n",
        "    2.0: f_val(2.0),\n",
        "    2.1: f_val(2.1),\n",
        "    2.2: f_val(2.2),\n",
        "    2.3: f_val(2.3),\n",
        "    2.4: f_val(2.4),\n",
        "}\n",
        "\n",
        "# ---------------------------------------------\n",
        "# 1) Fórmula del extremo de tres puntos\n",
        "# f'(x) ≈ (-3f(x) + 4f(x+h) - f(x+2h)) / (2h)\n",
        "# Aproxima f'(2.0) usando puntos 2.0, 2.1 y 2.2\n",
        "# ---------------------------------------------\n",
        "extremo_3pt = (-3*vals[2.0] + 4*vals[2.1] - vals[2.2]) / (2*h)\n",
        "\n",
        "# ---------------------------------------------\n",
        "# 2) Fórmula del punto medio de tres puntos (central)\n",
        "# f'(x) ≈ (f(x+h) - f(x-h)) / (2h)\n",
        "# Aproxima f'(2.0) usando puntos 1.9 y 2.1\n",
        "# ---------------------------------------------\n",
        "punto_medio_3pt = (vals[2.1] - vals[1.9]) / (2*h)\n",
        "\n",
        "# ---------------------------------------------\n",
        "# 3) Fórmula del punto medio de cinco puntos\n",
        "# f'(x) ≈ (f(x-2h) - 8f(x-h) + 8f(x+h) - f(x+2h)) / (12h)\n",
        "# Aproxima f'(2.0) usando puntos 1.8, 1.9, 2.1 y 2.2\n",
        "# ---------------------------------------------\n",
        "punto_medio_5pt = (vals[1.8] - 8*vals[1.9] + 8*vals[2.1] - vals[2.2]) / (12*h)\n",
        "\n",
        "# ---------------------------------------------\n",
        "# 4) Fórmula del extremo de cinco puntos\n",
        "# f'(x) ≈ (-25f(x) + 48f(x+h) - 36f(x+2h) + 16f(x+3h) - 3f(x+4h)) / (12h)\n",
        "# Aproxima f'(2.0) usando puntos 2.0 a 2.4\n",
        "# ---------------------------------------------\n",
        "extremo_5pt = (-25*vals[2.0] + 48*vals[2.1] - 36*vals[2.2] + 16*vals[2.3] - 3*vals[2.4]) / (12*h)\n",
        "\n",
        "# ---------------------------------------------\n",
        "# 5) Fórmula del punto medio para segunda derivada (cinco puntos)\n",
        "# f''(x) ≈ (-f(x-2h) + 16f(x-h) - 30f(x) + 16f(x+h) - f(x+2h)) / (12h²)\n",
        "# Aproxima f''(2.0) usando puntos 1.8, 1.9, 2.0, 2.1 y 2.2\n",
        "# ---------------------------------------------\n",
        "segunda_derivada_5pt = (-vals[1.8] + 16*vals[1.9] - 30*vals[2.0] + 16*vals[2.1] - vals[2.2]) / (12*h**2)\n",
        "\n",
        "# ---------------------------------------------\n",
        "# Imprimir los resultados\n",
        "# ---------------------------------------------\n",
        "print(\"Aproximaciones de f'(2.0) y f''(2.0) para f(x) = x * e^x\\n\")\n",
        "\n",
        "print(f\"1) Extremo 3 puntos:         f'(2.0) ≈ {extremo_3pt:.6f}\")\n",
        "print(f\"2) Punto medio 3 puntos:    f'(2.0) ≈ {punto_medio_3pt:.6f}\")\n",
        "print(f\"3) Punto medio 5 puntos:    f'(2.0) ≈ {punto_medio_5pt:.6f}\")\n",
        "print(f\"4) Extremo 5 puntos:        f'(2.0) ≈ {extremo_5pt:.6f}\")\n",
        "print(f\"5) Segunda derivada (5 pt): f''(2.0) ≈ {segunda_derivada_5pt:.6f}\")\n",
        "\n",
        "# ---------------------------------------------\n",
        "# Comparación con el valor exacto\n",
        "# f'(x) = e^x (x + 1) => f'(2.0) = 3e^2 ≈ 22.167\n",
        "# f''(x) = e^x (x + 2) => f''(2.0) = 4e^2 ≈ 29.556\n",
        "# ---------------------------------------------\n",
        "valor_real_derivada = 3 * math.exp(2)\n",
        "valor_real_segunda = 4 * math.exp(2)\n",
        "\n",
        "print(f\"\\nValor exacto f'(2.0) = {valor_real_derivada:.6f}\")\n",
        "print(f\"Valor exacto f''(2.0) = {valor_real_segunda:.6f}\")\n"
      ]
    }
  ]
}
{
  "nbformat": 4,
  "nbformat_minor": 0,
  "metadata": {
    "colab": {
      "provenance": [],
      "authorship_tag": "ABX9TyNdjYexMDbZvGK2S77fF5W7",
      "include_colab_link": true
    },
    "kernelspec": {
      "name": "python3",
      "display_name": "Python 3"
    },
    "language_info": {
      "name": "python"
    }
  },
  "cells": [
    {
      "cell_type": "markdown",
      "metadata": {
        "id": "view-in-github",
        "colab_type": "text"
      },
      "source": [
        "<a href=\"https://colab.research.google.com/github/abnermassimo1/Metodos-Numericos/blob/main/InteNumerica.ipynb\" target=\"_parent\"><img src=\"https://colab.research.google.com/assets/colab-badge.svg\" alt=\"Open In Colab\"/></a>"
      ]
    },
    {
      "cell_type": "markdown",
      "source": [],
      "metadata": {
        "id": "0AKCUw11GIeh"
      }
    },
    {
      "cell_type": "markdown",
      "source": [
        "**INTEGRACION NUMERICA**\n",
        "\n",
        "La **integración numérica** se usa para aproximar el valor de una integral definida cuando:\n",
        "\n",
        "- La función no tiene una primitiva elemental.\n",
        "- Solo se conocen algunos valores (datos discretos).\n",
        "- Se busca una solución práctica y rápida.\n",
        "\n",
        "## Idea general\n",
        "\n",
        "Dada una integral:\n",
        "$$\n",
        "[\n",
        "\\int_a^b f(x)\\,dx\n",
        "]\n",
        "$$\n",
        "Se aproxima mediante evaluaciones de \\( f \\) en ciertos puntos para estimar el área bajo la curva.\n"
      ],
      "metadata": {
        "id": "epNBYuyvFenx"
      }
    },
    {
      "cell_type": "code",
      "execution_count": 1,
      "metadata": {
        "colab": {
          "base_uri": "https://localhost:8080/"
        },
        "id": "8HO88WSqCqk5",
        "outputId": "84420452-68bf-47cf-d1f1-e0dcd924c661"
      },
      "outputs": [
        {
          "output_type": "stream",
          "name": "stdout",
          "text": [
            "Valor exacto: 0.292893218813452\n",
            "\n",
            "--- Newton-Cotes Cerradas ---\n",
            "n = 1 (Trapezoidal): 0.277680183634898   Error: 0.0152130351785546\n",
            "n = 2 (Simpson): 0.292932637839748       Error: 0.0000394190262955618\n",
            "n = 3 (3/8 Simpson): 0.292910702549171   Error: 0.0000174837357189706\n",
            "n = 4: 0.292893182561264                 Error: 3.62521885843847E-8\n",
            "\n",
            "--- Newton-Cotes Abiertas ---\n",
            "n = 0: 0.300558864942173                 Error: 0.00766564612872067\n",
            "n = 1: 0.297987542187263                 Error: 0.00509432337381016\n",
            "n = 2: 0.292858659192590                 Error: 0.0000345596208622401\n",
            "n = 3: 0.292869228136084                 Error: 0.0000239906773680798\n"
          ]
        }
      ],
      "source": [
        "import sympy as sp\n",
        "\n",
        "x = sp.Symbol('x')\n",
        "fx = sp.sin(x)\n",
        "a = 0\n",
        "b = sp.pi / 4\n",
        "valor_real = 1 - sp.sqrt(2)/2\n",
        "\n",
        "def newton_cotes_cerrada(fx, a, b, n):\n",
        "    h = (b - a) / n\n",
        "    x_vals = [a + i * h for i in range(n + 1)]\n",
        "\n",
        "    if n == 1:  # Trapezoidal\n",
        "        return (h / 2) * (fx.subs(x, x_vals[0]) + fx.subs(x, x_vals[1]))\n",
        "    elif n == 2:  # Simpson\n",
        "        return (h / 3) * (fx.subs(x, x_vals[0]) + 4*fx.subs(x, x_vals[1]) + fx.subs(x, x_vals[2]))\n",
        "    elif n == 3:  # 3/8 de Simpson\n",
        "        return (3*h / 8) * (fx.subs(x, x_vals[0]) + 3*fx.subs(x, x_vals[1]) +\n",
        "                            3*fx.subs(x, x_vals[2]) + fx.subs(x, x_vals[3]))\n",
        "    elif n == 4:  # n=4 cerrada\n",
        "        return (2*h / 45) * (7*fx.subs(x, x_vals[0]) + 32*fx.subs(x, x_vals[1]) +\n",
        "                             12*fx.subs(x, x_vals[2]) + 32*fx.subs(x, x_vals[3]) +\n",
        "                             7*fx.subs(x, x_vals[4]))\n",
        "    else:\n",
        "        raise ValueError(\"n debe ser 1, 2, 3 o 4.\")\n",
        "\n",
        "def newton_cotes_abierta(fx, a, b, n):\n",
        "    h = (b - a) / (n + 2)\n",
        "    x_vals = [a + (i + 1) * h for i in range(n + 1)]\n",
        "\n",
        "    if n == 0:\n",
        "        return (b - a) * fx.subs(x, x_vals[0])\n",
        "    elif n == 1:\n",
        "        return (3*h / 2) * (fx.subs(x, x_vals[0]) + fx.subs(x, x_vals[1]))\n",
        "    elif n == 2:\n",
        "        return (4*h / 3) * (2*fx.subs(x, x_vals[0]) - fx.subs(x, x_vals[1]) + 2*fx.subs(x, x_vals[2]))\n",
        "    elif n == 3:\n",
        "        return (5*h / 24) * (11*fx.subs(x, x_vals[0]) + fx.subs(x, x_vals[1]) +\n",
        "                             fx.subs(x, x_vals[2]) + 11*fx.subs(x, x_vals[3]))\n",
        "    else:\n",
        "        raise ValueError(\"n debe ser 0, 1, 2 o 3.\")\n",
        "\n",
        "# Evaluaciones cerradas\n",
        "cerrada_n1 = newton_cotes_cerrada(fx, a, b, 1).evalf()\n",
        "cerrada_n2 = newton_cotes_cerrada(fx, a, b, 2).evalf()\n",
        "cerrada_n3 = newton_cotes_cerrada(fx, a, b, 3).evalf()\n",
        "cerrada_n4 = newton_cotes_cerrada(fx, a, b, 4).evalf()\n",
        "\n",
        "# Evaluaciones abiertas\n",
        "abierta_n0 = newton_cotes_abierta(fx, a, b, 0).evalf()\n",
        "abierta_n1 = newton_cotes_abierta(fx, a, b, 1).evalf()\n",
        "abierta_n2 = newton_cotes_abierta(fx, a, b, 2).evalf()\n",
        "abierta_n3 = newton_cotes_abierta(fx, a, b, 3).evalf()\n",
        "\n",
        "# Valor exacto\n",
        "real_val = valor_real.evalf()\n",
        "\n",
        "# Resultados\n",
        "print(f\"Valor exacto: {real_val}\")\n",
        "print(\"\\n--- Newton-Cotes Cerradas ---\")\n",
        "print(f\"n = 1 (Trapezoidal): {cerrada_n1}   Error: {abs(real_val - cerrada_n1)}\")\n",
        "print(f\"n = 2 (Simpson): {cerrada_n2}       Error: {abs(real_val - cerrada_n2)}\")\n",
        "print(f\"n = 3 (3/8 Simpson): {cerrada_n3}   Error: {abs(real_val - cerrada_n3)}\")\n",
        "print(f\"n = 4: {cerrada_n4}                 Error: {abs(real_val - cerrada_n4)}\")\n",
        "\n",
        "print(\"\\n--- Newton-Cotes Abiertas ---\")\n",
        "print(f\"n = 0: {abierta_n0}                 Error: {abs(real_val - abierta_n0)}\")\n",
        "print(f\"n = 1: {abierta_n1}                 Error: {abs(real_val - abierta_n1)}\")\n",
        "print(f\"n = 2: {abierta_n2}                 Error: {abs(real_val - abierta_n2)}\")\n",
        "print(f\"n = 3: {abierta_n3}                 Error: {abs(real_val - abierta_n3)}\")"
      ]
    }
  ]
}
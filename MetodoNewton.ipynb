{
  "nbformat": 4,
  "nbformat_minor": 0,
  "metadata": {
    "colab": {
      "provenance": [],
      "authorship_tag": "ABX9TyNcsgD7wLESvG3GdDJ/8FC/",
      "include_colab_link": true
    },
    "kernelspec": {
      "name": "python3",
      "display_name": "Python 3"
    },
    "language_info": {
      "name": "python"
    }
  },
  "cells": [
    {
      "cell_type": "markdown",
      "metadata": {
        "id": "view-in-github",
        "colab_type": "text"
      },
      "source": [
        "<a href=\"https://colab.research.google.com/github/abnermassimo1/Metodos-Numericos/blob/main/MetodoNewton.ipynb\" target=\"_parent\"><img src=\"https://colab.research.google.com/assets/colab-badge.svg\" alt=\"Open In Colab\"/></a>"
      ]
    },
    {
      "cell_type": "markdown",
      "source": [
        "**METODO DE NEWTON**\n",
        "\n",
        "  \n",
        "    Parámetros:\n",
        "    f  : función a la que queremos encontrar la raíz.\n",
        "    df : derivada de la función f.\n",
        "    p0 : aproximación inicial.\n",
        "    tol: tolerancia para la convergencia.\n",
        "    N0 : número máximo de iteraciones.\n",
        "\n",
        "\n"
      ],
      "metadata": {
        "id": "HqWrzALGecxT"
      }
    },
    {
      "cell_type": "code",
      "source": [
        "import numpy as np\n",
        "import pandas as pd"
      ],
      "metadata": {
        "id": "Lt8qvtS6fS9K"
      },
      "execution_count": 1,
      "outputs": []
    },
    {
      "cell_type": "code",
      "execution_count": 6,
      "metadata": {
        "id": "0wXvJuFtcVks"
      },
      "outputs": [],
      "source": [
        "def newton_method(f, df, p0, tol, N0):\n",
        "\n",
        "    # Lista para almacenar los resultados\n",
        "    resultados = []\n",
        "\n",
        "    i = 1  # Inicializamos el contador de iteraciones\n",
        "    while i <= N0:\n",
        "        p = p0 - f(p0) / df(p0)  # Fórmula del método de Newton\n",
        "        resultados.append([i, p0, p, abs(p - p0)])  # Guardamos los datos de la iteración\n",
        "\n",
        "        # Comprobamos si la solución es aceptable según la tolerancia\n",
        "        if abs(p - p0) < tol:\n",
        "            print(f\"El método fue exitoso en {i} iteraciones.\")\n",
        "            break\n",
        "\n",
        "        p0 = p  # Actualizamos p0\n",
        "        i += 1  # Incrementamos el contador\n",
        "\n",
        "    # Si llegamos al número máximo de iteraciones sin converger\n",
        "    if i > N0:\n",
        "        print(f\"El método falló después de {N0} iteraciones.\")\n",
        "\n",
        "    # Crear DataFrame con los resultados y mostrarlo en forma de tabla\n",
        "    tabla = pd.DataFrame(resultados, columns=[\"Iteración\", \"p0\", \"p\", \"Error\"])\n",
        "    print(tabla)"
      ]
    },
    {
      "cell_type": "code",
      "source": [
        "# Ejemplo de uso con la función f(x) = x^2 - 2 y su derivada f'(x) = 2x\n",
        "f = lambda x: x**2 - 2\n",
        "df = lambda x: 2*x\n",
        "p0 = 1.5  # Aproximación inicial\n",
        "tol = 1e-5  # Tolerancia\n",
        "N0 = 20  # Máximo número de iteraciones\n",
        "\n",
        "newton_method(f, df, p0, tol, N0)"
      ],
      "metadata": {
        "colab": {
          "base_uri": "https://localhost:8080/"
        },
        "id": "Q3an-E3wfywi",
        "outputId": "d3d48d17-bfd4-40d0-eae8-be808a44fd9d"
      },
      "execution_count": 9,
      "outputs": [
        {
          "output_type": "stream",
          "name": "stdout",
          "text": [
            "El método fue exitoso en 3 iteraciones.\n",
            "   Iteración        p0         p     Error\n",
            "0          1  1.500000  1.416667  0.083333\n",
            "1          2  1.416667  1.414216  0.002451\n",
            "2          3  1.414216  1.414214  0.000002\n"
          ]
        }
      ]
    }
  ]
}
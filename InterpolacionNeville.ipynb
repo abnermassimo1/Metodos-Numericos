{
  "nbformat": 4,
  "nbformat_minor": 0,
  "metadata": {
    "colab": {
      "provenance": [],
      "authorship_tag": "ABX9TyODM8/y2qAnFJJXnLvNpYfE",
      "include_colab_link": true
    },
    "kernelspec": {
      "name": "python3",
      "display_name": "Python 3"
    },
    "language_info": {
      "name": "python"
    }
  },
  "cells": [
    {
      "cell_type": "markdown",
      "metadata": {
        "id": "view-in-github",
        "colab_type": "text"
      },
      "source": [
        "<a href=\"https://colab.research.google.com/github/abnermassimo1/Metodos-Numericos/blob/main/InterpolacionNeville.ipynb\" target=\"_parent\"><img src=\"https://colab.research.google.com/assets/colab-badge.svg\" alt=\"Open In Colab\"/></a>"
      ]
    },
    {
      "cell_type": "markdown",
      "source": [
        "**INTERPOLACION ITERADA DE NEVILLE**\n",
        "\n",
        "En matemáticas, el algoritmo de Neville es un algoritmo utilizado para la interpolación de polinomios que fue desarrollado por el matemático Eric Harold Neville en 1934. Dados n + 1 puntos, existe un único polinomio de grado ≤ n que pasa por los puntos dados. El algoritmo de Neville evalúa este polinomio.\n",
        "\n",
        "El algoritmo de Neville se basa en la forma de Newton del polinomio de interpolación y la relación de recursión para las diferencias divididas. Es similar al algoritmo de Aitken (llamado así por Alexander Aitken), que actualmente no se utiliza."
      ],
      "metadata": {
        "id": "EdYyz-0NzTU8"
      }
    },
    {
      "cell_type": "code",
      "execution_count": 2,
      "metadata": {
        "colab": {
          "base_uri": "https://localhost:8080/"
        },
        "id": "Pn4B_StBwzFd",
        "outputId": "18686537-6bea-4c70-8ccc-8587652d199f"
      },
      "outputs": [
        {
          "output_type": "stream",
          "name": "stdout",
          "text": [
            "Tabla Q de Neville:\n",
            "Fila 0: ['0.765198', '', '', '', '']\n",
            "Fila 1: ['0.620086', '0.523345', '', '', '']\n",
            "Fila 2: ['0.455402', '0.510297', '0.512471', '', '']\n",
            "Fila 3: ['0.281819', '0.513263', '0.511286', '0.511813', '']\n",
            "Fila 4: ['0.110362', '0.510427', '0.513736', '0.511830', '0.511820']\n",
            "\n",
            "El valor interpolado P(1.5) = 0.511820\n"
          ]
        }
      ],
      "source": [
        "def neville_interpolation(x_data, y_data, x):\n",
        "\n",
        "    n = len(x_data)\n",
        "    Q = [[0.0 for _ in range(n)] for _ in range(n)]\n",
        "\n",
        "    # Primera columna: los f(x_i)\n",
        "    for i in range(n):\n",
        "        Q[i][0] = y_data[i]\n",
        "\n",
        "    # Iteración para llenar la tabla\n",
        "    for i in range(1, n):\n",
        "        for j in range(1, i + 1):\n",
        "            xi, xij = x_data[i], x_data[i - j]\n",
        "            Q[i][j] = ((x - xij) * Q[i][j - 1] - (x - xi) * Q[i - 1][j - 1]) / (xi - xij)\n",
        "\n",
        "    return Q, Q[n - 1][n - 1]\n",
        "\n",
        "def imprimir_tabla(Q):\n",
        "    print(\"Tabla Q de Neville:\")\n",
        "    for i, fila in enumerate(Q):\n",
        "        fila_str = [\"{:.6f}\".format(valor) if j <= i else \"\" for j, valor in enumerate(fila)]\n",
        "        print(f\"Fila {i}: {fila_str}\")\n",
        "\n",
        "# Ejemplo de uso\n",
        "x_data = [1.0, 1.3, 1.6, 1.9, 2.2]\n",
        "y_data = [0.7651977,0.6200860,0.4554022,0.2818186,0.1103623]\n",
        "x = 1.5\n",
        "\n",
        "tabla_Q, resultado = neville_interpolation(x_data, y_data, x)\n",
        "imprimir_tabla(tabla_Q)\n",
        "print(f\"\\nEl valor interpolado P({x}) = {resultado:.6f}\")"
      ]
    }
  ]
}
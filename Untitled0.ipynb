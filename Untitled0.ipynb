{
  "nbformat": 4,
  "nbformat_minor": 0,
  "metadata": {
    "colab": {
      "provenance": [],
      "authorship_tag": "ABX9TyMqdk1SNTxfV2jUSr4zi67P",
      "include_colab_link": true
    },
    "kernelspec": {
      "name": "python3",
      "display_name": "Python 3"
    },
    "language_info": {
      "name": "python"
    }
  },
  "cells": [
    {
      "cell_type": "markdown",
      "metadata": {
        "id": "view-in-github",
        "colab_type": "text"
      },
      "source": [
        "<a href=\"https://colab.research.google.com/github/abnermassimo1/Metodos-Numericos/blob/main/Untitled0.ipynb\" target=\"_parent\"><img src=\"https://colab.research.google.com/assets/colab-badge.svg\" alt=\"Open In Colab\"/></a>"
      ]
    },
    {
      "cell_type": "markdown",
      "source": [
        "**ITERACION DE PUNTO FIJO**\n",
        "\n",
        "1.-Se define la funcion g(x)\n",
        "\n",
        "2.-Se implementa la iteracion de punto fijo\n",
        "\n",
        "3.-Se usa una lista data para almacenar cada itracion\n",
        "\n",
        "4.-Se usa Pandas para imprimir una tabla ordenada.\n",
        "\n",
        "  \n",
        "**Parámetros:**\n",
        "\n",
        "    p0  - Aproximación inicial.\n",
        "\n",
        "    tol - Tolerancia para la condición de parada.\n",
        "\n",
        "    N0  - Número máximo de iteraciones.\n",
        "    \n"
      ],
      "metadata": {
        "id": "5bqCkWXHUA7T"
      }
    },
    {
      "cell_type": "code",
      "source": [
        "import numpy as np  # Se importa la librería NumPy para cálculos numéricos.\n",
        "import pandas as pd  # Se importa Pandas para la presentación ordenada de los resultados en una tabla."
      ],
      "metadata": {
        "id": "pkM5djdoUYcg"
      },
      "execution_count": 1,
      "outputs": []
    },
    {
      "cell_type": "code",
      "source": [
        "# Definimos la función g(x)\n",
        "def g(x):\n",
        "    return np.sqrt(10 / (4 + x))"
      ],
      "metadata": {
        "id": "FqMBgQfhU1SL"
      },
      "execution_count": 2,
      "outputs": []
    },
    {
      "cell_type": "code",
      "execution_count": 6,
      "metadata": {
        "colab": {
          "base_uri": "https://localhost:8080/"
        },
        "id": "Q_iyjfa7T1iL",
        "outputId": "c91d60fd-e156-4c3d-ee66-20239c18447f"
      },
      "outputs": [
        {
          "output_type": "stream",
          "name": "stdout",
          "text": [
            " Iteración       p0        p    Error\n",
            "         1 1.500000 1.348400 0.151600\n",
            "         2 1.348400 1.367376 0.018977\n",
            "         3 1.367376 1.364957 0.002419\n",
            "         4 1.364957 1.365265 0.000308\n",
            "         5 1.365265 1.365226 0.000039\n",
            "         6 1.365226 1.365231 0.000005\n"
          ]
        }
      ],
      "source": [
        "# Función que implementa el algoritmo de iteración de punto fijo.\n",
        "def fixed_point_iteration(p0, tol, N0):\n",
        "\n",
        "    data = []  # Lista para almacenar los resultados de cada iteración.\n",
        "    i = 1  # Inicializamos el contador de iteraciones en 1.\n",
        "\n",
        "    while i <= N0:  # Mientras no superemos el número máximo de iteraciones:\n",
        "        p = g(p0)  # Calculamos p aplicando la función g al valor actual de p0.\n",
        "        data.append([i, p0, p, abs(p - p0)])  # Guardamos la iteración, p0, p y el error absoluto.\n",
        "\n",
        "        # Si el error absoluto es menor que la tolerancia, detenemos el algoritmo.\n",
        "        if abs(p - p0) < tol:\n",
        "            break  # Salimos del ciclo.\n",
        "\n",
        "        p0 = p  # Actualizamos p0 con el nuevo valor p para la siguiente iteración.\n",
        "        i += 1  # Incrementamos el contador de iteraciones.\n",
        "\n",
        "    # Convertimos los datos en un DataFrame de Pandas para una presentación tabular clara.\n",
        "    df = pd.DataFrame(data, columns=[\"Iteración\", \"p0\", \"p\", \"Error\"])\n",
        "\n",
        "    # Imprimimos la tabla sin el índice de Pandas.\n",
        "    print(df.to_string(index=False))\n",
        "\n",
        "# Parámetros de prueba\n",
        "p0 = 1.5   # Aproximación inicial.\n",
        "tol = 1e-5  # Tolerancia (criterio de parada).\n",
        "N0 = 20     # Número máximo de iteraciones.\n",
        "\n",
        "# Llamamos a la función para ejecutar la iteración de punto fijo.\n",
        "fixed_point_iteration(p0, tol, N0)"
      ]
    }
  ]
}